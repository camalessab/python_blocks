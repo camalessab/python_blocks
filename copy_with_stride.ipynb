{
 "cells": [
  {
   "cell_type": "markdown",
   "metadata": {},
   "source": [
    "Copy from src to dst"
   ]
  },
  {
   "cell_type": "code",
   "execution_count": 2,
   "metadata": {
    "collapsed": false,
    "scrolled": true
   },
   "outputs": [
    {
     "name": "stdout",
     "output_type": "stream",
     "text": [
      "[1 2 3 4 5 6]\n",
      "[ 1.  2.  3.  0.  0.  0.  4.  5.  6.  0.  0.  0.]\n"
     ]
    }
   ],
   "source": [
    "import numpy as np\n",
    "\n",
    "\n",
    "def copy_with_stride(src, src_offset,\n",
    "                     src_width, src_stride,\n",
    "                     length,  # total size to be copied\n",
    "                     dst, dst_offset,\n",
    "                     dst_width, dst_stride):\n",
    "\n",
    "    for i in range(length // src_width):\n",
    "        dst[dst_offset + i * dst_stride:\n",
    "            dst_offset + dst_width + i *\n",
    "            dst_stride] = src[src_offset + i * src_stride:\n",
    "                              src_offset + src_width + i *\n",
    "                              src_stride]\n",
    "    return dst\n",
    "\n",
    "if __name__ == '__main__':\n",
    "\n",
    "    a = np.array([1, 2, 3, 4, 5, 6])\n",
    "\n",
    "    b = np.zeros(6*2)\n",
    "    b = copy_with_stride(a, 0,\n",
    "                         3, 3,\n",
    "                         len(a),\n",
    "                         b, 0,\n",
    "                         3, 6)\n",
    "    print(a)\n",
    "    print(b)"
   ]
  }
 ],
 "metadata": {
  "kernelspec": {
   "display_name": "Python 3",
   "language": "python",
   "name": "python3"
  },
  "language_info": {
   "codemirror_mode": {
    "name": "ipython",
    "version": 3
   },
   "file_extension": ".py",
   "mimetype": "text/x-python",
   "name": "python",
   "nbconvert_exporter": "python",
   "pygments_lexer": "ipython3",
   "version": "3.4.3"
  }
 },
 "nbformat": 4,
 "nbformat_minor": 0
}
