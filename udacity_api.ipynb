{
 "cells": [
  {
   "cell_type": "markdown",
   "metadata": {},
   "source": [
    "The code below gets all Udacity Nanodegrees and prints out a list of Nanodegree titles and their respective homepage URLs."
   ]
  },
  {
   "cell_type": "code",
   "execution_count": 6,
   "metadata": {
    "collapsed": false,
    "scrolled": false
   },
   "outputs": [
    {
     "name": "stdout",
     "output_type": "stream",
     "text": [
      "Self Driving Car Engineer Nanodegree\n",
      "https://www.udacity.com/course/self-driving-car-engineer-nanodegree--nd013?utm_medium=referral&utm_campaign=api\n",
      "Android Basics Nanodegree by Google\n",
      "https://www.udacity.com/course/android-basics-nanodegree-by-google--nd803?utm_medium=referral&utm_campaign=api\n",
      "Machine Learning Engineer Nanodegree\n",
      "https://www.udacity.com/course/machine-learning-engineer-nanodegree--nd009?utm_medium=referral&utm_campaign=api\n",
      "Business Analyst\n",
      "https://www.udacity.com/course/business-analyst--nd008?utm_medium=referral&utm_campaign=api\n",
      "DevOps Engineer Nanodegree\n",
      "https://www.udacity.com/course/devops-engineer-nanodegree--nd012?utm_medium=referral&utm_campaign=api\n",
      "Beginning iOS App Development Nanodegree\n",
      "https://www.udacity.com/course/beginning-ios-app-development-nanodegree--nd006?utm_medium=referral&utm_campaign=api\n",
      "Senior Web Developer Nanodegree\n",
      "https://www.udacity.com/course/senior-web-developer-nanodegree--nd802?utm_medium=referral&utm_campaign=api\n",
      "Ruby Programming Nanodegree\n",
      "https://www.udacity.com/course/ruby-programming-nanodegree--nd010?utm_medium=referral&utm_campaign=api\n",
      "Mobile Game Developer Nanodegree\n",
      "https://www.udacity.com/course/mobile-game-developer-nanodegree--nd011?utm_medium=referral&utm_campaign=api\n",
      "Android Developer Nanodegree\n",
      "https://www.udacity.com/course/android-developer-nanodegree--nd801?utm_medium=referral&utm_campaign=api\n",
      "Front-End Web Developer Nanodegree\n",
      "https://www.udacity.com/course/front-end-web-developer-nanodegree--nd001?utm_medium=referral&utm_campaign=api\n",
      "Data Analyst Nanodegree\n",
      "https://www.udacity.com/course/data-analyst-nanodegree--nd002?utm_medium=referral&utm_campaign=api\n",
      "Full Stack Web Developer Nanodegree\n",
      "https://www.udacity.com/course/full-stack-web-developer-nanodegree--nd004?utm_medium=referral&utm_campaign=api\n",
      "Intro to Programming Nanodegree\n",
      "https://www.udacity.com/course/intro-to-programming-nanodegree--nd000?utm_medium=referral&utm_campaign=api\n",
      "iOS Developer Nanodegree\n",
      "https://www.udacity.com/course/ios-developer-nanodegree--nd003?utm_medium=referral&utm_campaign=api\n"
     ]
    }
   ],
   "source": [
    "import json\n",
    "import urllib.request\n",
    "response = urllib.request.urlopen('https://udacity.com/public-api/v0/courses')\n",
    "json_response = json.loads(response.read().decode('utf-8'))\n",
    "for course in json_response['degrees']:\n",
    "    print(course['title'])\n",
    "    print(course['homepage'])\n"
   ]
  }
 ],
 "metadata": {
  "kernelspec": {
   "display_name": "Python 3",
   "language": "python",
   "name": "python3"
  },
  "language_info": {
   "codemirror_mode": {
    "name": "ipython",
    "version": 3
   },
   "file_extension": ".py",
   "mimetype": "text/x-python",
   "name": "python",
   "nbconvert_exporter": "python",
   "pygments_lexer": "ipython3",
   "version": "3.4.3"
  }
 },
 "nbformat": 4,
 "nbformat_minor": 0
}
